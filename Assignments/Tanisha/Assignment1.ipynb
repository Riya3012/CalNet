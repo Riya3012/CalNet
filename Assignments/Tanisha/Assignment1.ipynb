{
 "cells": [
  {
   "cell_type": "code",
   "execution_count": 4,
   "id": "02bb8b64",
   "metadata": {},
   "outputs": [
    {
     "name": "stdout",
     "output_type": "stream",
     "text": [
      "🤗\n"
     ]
    }
   ],
   "source": [
    "print(\"\\U0001F917\")"
   ]
  },
  {
   "cell_type": "code",
   "execution_count": 5,
   "id": "631b8d8d",
   "metadata": {},
   "outputs": [
    {
     "name": "stdout",
     "output_type": "stream",
     "text": [
      "Requirement already satisfied: opencv-python in c:\\users\\dell\\anaconda3\\lib\\site-packages (4.5.3.56)\n",
      "Requirement already satisfied: numpy>=1.17.3 in c:\\users\\dell\\anaconda3\\lib\\site-packages (from opencv-python) (1.20.1)\n"
     ]
    }
   ],
   "source": [
    "!pip install opencv-python"
   ]
  },
  {
   "cell_type": "code",
   "execution_count": 6,
   "id": "c51f7873",
   "metadata": {},
   "outputs": [],
   "source": [
    " import cv2"
   ]
  },
  {
   "cell_type": "markdown",
   "id": "bd6f4b3a",
   "metadata": {},
   "source": [
    "1. Detecting the shapes and 3. write name of the shapes and number of sides"
   ]
  },
  {
   "cell_type": "code",
   "execution_count": 6,
   "id": "145abbc5",
   "metadata": {},
   "outputs": [],
   "source": [
    "import cv2\n",
    "import numpy as np\n",
    "\n",
    "#Load and then gray scale image\n",
    "\n",
    "image=cv2.imread(\"C:/Users/Dell/Pictures/Screenshots/pic.jpg\")\n",
    "gray=cv2.cvtColor(image , cv2.COLOR_BGR2GRAY)\n",
    "\n",
    "cv2.imshow(\"Question image\",image)\n",
    "cv2.waitKey(0)\n",
    "\n",
    "ret,thres=cv2.threshold(gray,127,255,1)\n",
    "\n",
    "#Extract contours\n",
    "contours,hierarchy=cv2.findContours(thres.copy(),cv2.RETR_LIST,cv2.CHAIN_APPROX_NONE)\n",
    "\n",
    "for cnt in contours:\n",
    "\n",
    "    #Get approximate poygons\n",
    "    approx= cv2.approxPolyDP(cnt,0.01*cv2.arcLength(cnt,True),True)\n",
    "\n",
    "    if len(approx) == 3:\n",
    "        shape_name=\"Triangle-3\"\n",
    "        cv2.drawContours(image,[cnt],0,(0,255,0),-1)\n",
    "\n",
    "        #Find contour center to place text at the center\n",
    "        M=cv2.moments(cnt)\n",
    "        cx=int(M['m10']/M['m00'])\n",
    "        cy=int(M['m01']/M['m00'])\n",
    "        cv2.putText(image,shape_name,(cx-55,cy),cv2.FONT_HERSHEY_SIMPLEX,1,(0,0,0),1)\n",
    "    elif len(approx) == 4:\n",
    "        x,y,w,h=cv2.boundingRect(cnt)\n",
    "        M=cv2.moments(cnt)\n",
    "        cx=int(M['m10']/M['m00'])\n",
    "        cy=int(M['m01']/M['m00'])\n",
    "\n",
    "        #Check to see if 4-side polygon is square or rectangle\n",
    "        #cv2.boundinRect returns the top left and then width\n",
    "        if abs(w-h) <=3:\n",
    "            shape_name= \"Square-4\"\n",
    "\n",
    "            #Find contour center to place text at the center\n",
    "            cv2.drawContours(image,[cnt],0,(0,125,255),-1)\n",
    "            cv2.putText(image,shape_name,(cx-75,cy),cv2.FONT_HERSHEY_SIMPLEX,1,(0,0,0),1)\n",
    "\n",
    "        else:\n",
    "            shape_name=\"Rectangle-4\"\n",
    "\n",
    "            #Find contour center to place text at the center\n",
    "            cv2.drawContours(image,[cnt],0,(0,0,255),-1)\n",
    "            M=cv2.moments(cnt)\n",
    "            cx=int(M['m10']/M['m00'])\n",
    "            cy=int(M['m01']/M['m00'])\n",
    "            cv2.putText(image,shape_name,(cx-100,cy),cv2.FONT_HERSHEY_SIMPLEX,1,(0,0,0),1)\n",
    "\n",
    "    elif len(approx) == 10:\n",
    "        shape_name=\"Star-5\"\n",
    "        cv2.drawContours(image,[cnt],0,(255,255,0),-1)\n",
    "\n",
    "        #Find contour center to place text at the center\n",
    "        M=cv2.moments(cnt)\n",
    "        cx=int(M['m10']/M['m00'])\n",
    "        cy=int(M['m01']/M['m00'])\n",
    "        cv2.putText(image,shape_name,(cx-50,cy),cv2.FONT_HERSHEY_SIMPLEX,1,(0,0,0),1)\n",
    "\n",
    "    else: # len(approx) >= 15\n",
    "        shape_name=\"Circle-0\"\n",
    "        cv2.drawContours(image,[cnt],0,(0,255,255),-1)\n",
    "\n",
    "        #Find contour center to place text at the center\n",
    "        M=cv2.moments(cnt)\n",
    "        cx=int(M['m10']/M['m00'])\n",
    "        cy=int(M['m01']/M['m00'])\n",
    "        cv2.putText(image,shape_name,(cx-50,cy),cv2.FONT_HERSHEY_SIMPLEX,1,(0,0,0),1)\n",
    "\n",
    "    cv2.imshow('Output',image)\n",
    "    cv2.waitKey(0)\n",
    "    \n",
    "\n",
    "\n",
    "\n",
    "\n",
    "\n",
    "\n",
    "\n",
    "\n",
    "\n"
   ]
  },
  {
   "cell_type": "markdown",
   "id": "dd785a70",
   "metadata": {},
   "source": [
    "2. Contours around image"
   ]
  },
  {
   "cell_type": "code",
   "execution_count": 8,
   "id": "f4685c3d",
   "metadata": {},
   "outputs": [
    {
     "name": "stdout",
     "output_type": "stream",
     "text": [
      "Number of contours found =  4\n"
     ]
    }
   ],
   "source": [
    "  image = cv2.imread('C:/Users/Dell/Downloads/Telegram Desktop/contour.jpg')\n",
    "cv2.imshow('0 - Original Image', image)\n",
    "cv2.waitKey(0)\n",
    "\n",
    "# Create a black image with same dimensions as our loaded image\n",
    "blank_image = np.zeros((image.shape[0], image.shape[1], 3))\n",
    "\n",
    "# Create a copy of our original image\n",
    "orginal_image = image\n",
    "\n",
    "# Grayscale our image\n",
    "gray = cv2.cvtColor(image,cv2.COLOR_BGR2GRAY)\n",
    "\n",
    "# Find Canny edges\n",
    "edged = cv2.Canny(gray, 50, 200)\n",
    "cv2.imshow('1 - Canny Edges', edged)\n",
    "cv2.waitKey(0)\n",
    "\n",
    "# Find contours and print how many were found\n",
    "contours, hierarchy = cv2.findContours(edged.copy(), cv2.RETR_EXTERNAL, cv2.CHAIN_APPROX_NONE)\n",
    "print (\"Number of contours found = \", len(contours))\n",
    "\n",
    "#Draw all contours\n",
    "cv2.drawContours(blank_image, contours, -1, (0,255,0), 3)\n",
    "cv2.imshow('2 - All Contours over blank image', blank_image)\n",
    "cv2.waitKey(0)\n",
    "\n",
    "# Draw all contours over blank image\n",
    "cv2.drawContours(image, contours, -1, (0,255,0), 3)\n",
    "cv2.imshow('3 - All Contours', image)\n",
    "cv2.waitKey(0)\n",
    "\n",
    "cv2.destroyAllWindows()"
   ]
  }
 ],
 "metadata": {
  "kernelspec": {
   "display_name": "Python 3",
   "language": "python",
   "name": "python3"
  },
  "language_info": {
   "codemirror_mode": {
    "name": "ipython",
    "version": 3
   },
   "file_extension": ".py",
   "mimetype": "text/x-python",
   "name": "python",
   "nbconvert_exporter": "python",
   "pygments_lexer": "ipython3",
   "version": "3.8.8"
  }
 },
 "nbformat": 4,
 "nbformat_minor": 5
}
